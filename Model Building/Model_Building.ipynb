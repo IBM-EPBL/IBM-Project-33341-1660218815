{
  "nbformat": 4,
  "nbformat_minor": 0,
  "metadata": {
    "colab": {
      "provenance": []
    },
    "kernelspec": {
      "name": "python3",
      "display_name": "Python 3"
    },
    "language_info": {
      "name": "python"
    }
  },
  "cells": [
    {
      "cell_type": "markdown",
      "source": [
        "Model Building"
      ],
      "metadata": {
        "id": "jcIMWM9W6gxz"
      }
    },
    {
      "cell_type": "code",
      "execution_count": 1,
      "metadata": {
        "id": "IGSwebfvup__"
      },
      "outputs": [],
      "source": [
        "import pandas as pd\n",
        "import numpy as np\n",
        "import seaborn as sns\n",
        "import matplotlib.pyplot as plt\n",
        "from sklearn.metrics import classification_report\n",
        "from sklearn import metrics\n",
        "from sklearn import tree\n",
        "import warnings\n",
        "warnings.filterwarnings('ignore')"
      ]
    },
    {
      "cell_type": "code",
      "source": [
        "rain_df=pd.read_csv('/content/dataset_rainfall.csv')\n",
        "rain_df.head()"
      ],
      "metadata": {
        "colab": {
          "base_uri": "https://localhost:8080/",
          "height": 337
        },
        "id": "E7XXA2GFuxA3",
        "outputId": "a8b5f1e8-f6dc-4f3b-d141-cd7634d2dc56"
      },
      "execution_count": 2,
      "outputs": [
        {
          "output_type": "execute_result",
          "data": {
            "text/plain": [
              "                 SUBDIVISION  YEAR  MONTH  MAX_TEMP  MIN_TEMP  MEAN_TEMP  \\\n",
              "0  ANDAMAN & NICOBAR ISLANDS  1981      1     10.68     23.80      17.21   \n",
              "1  ANDAMAN & NICOBAR ISLANDS  1981      2     12.99     27.48      20.21   \n",
              "2  ANDAMAN & NICOBAR ISLANDS  1981      3     16.50     30.73      23.59   \n",
              "3  ANDAMAN & NICOBAR ISLANDS  1981      4     21.06     35.07      28.04   \n",
              "4  ANDAMAN & NICOBAR ISLANDS  1981      5     23.54     36.59      30.04   \n",
              "\n",
              "   PRECEPTIONS  PRESSURE  WIND_SPEED  RAINFALL  \n",
              "0        20.71     94.20        7.29      11.1  \n",
              "1         8.59     94.10        7.15      27.8  \n",
              "2        34.10     93.97        7.05       1.7  \n",
              "3        35.36     93.78        9.35      94.1  \n",
              "4        64.94     93.66        8.31     270.8  "
            ],
            "text/html": [
              "\n",
              "  <div id=\"df-81ee8d98-acfd-4970-945b-a348ee60fe34\">\n",
              "    <div class=\"colab-df-container\">\n",
              "      <div>\n",
              "<style scoped>\n",
              "    .dataframe tbody tr th:only-of-type {\n",
              "        vertical-align: middle;\n",
              "    }\n",
              "\n",
              "    .dataframe tbody tr th {\n",
              "        vertical-align: top;\n",
              "    }\n",
              "\n",
              "    .dataframe thead th {\n",
              "        text-align: right;\n",
              "    }\n",
              "</style>\n",
              "<table border=\"1\" class=\"dataframe\">\n",
              "  <thead>\n",
              "    <tr style=\"text-align: right;\">\n",
              "      <th></th>\n",
              "      <th>SUBDIVISION</th>\n",
              "      <th>YEAR</th>\n",
              "      <th>MONTH</th>\n",
              "      <th>MAX_TEMP</th>\n",
              "      <th>MIN_TEMP</th>\n",
              "      <th>MEAN_TEMP</th>\n",
              "      <th>PRECEPTIONS</th>\n",
              "      <th>PRESSURE</th>\n",
              "      <th>WIND_SPEED</th>\n",
              "      <th>RAINFALL</th>\n",
              "    </tr>\n",
              "  </thead>\n",
              "  <tbody>\n",
              "    <tr>\n",
              "      <th>0</th>\n",
              "      <td>ANDAMAN &amp; NICOBAR ISLANDS</td>\n",
              "      <td>1981</td>\n",
              "      <td>1</td>\n",
              "      <td>10.68</td>\n",
              "      <td>23.80</td>\n",
              "      <td>17.21</td>\n",
              "      <td>20.71</td>\n",
              "      <td>94.20</td>\n",
              "      <td>7.29</td>\n",
              "      <td>11.1</td>\n",
              "    </tr>\n",
              "    <tr>\n",
              "      <th>1</th>\n",
              "      <td>ANDAMAN &amp; NICOBAR ISLANDS</td>\n",
              "      <td>1981</td>\n",
              "      <td>2</td>\n",
              "      <td>12.99</td>\n",
              "      <td>27.48</td>\n",
              "      <td>20.21</td>\n",
              "      <td>8.59</td>\n",
              "      <td>94.10</td>\n",
              "      <td>7.15</td>\n",
              "      <td>27.8</td>\n",
              "    </tr>\n",
              "    <tr>\n",
              "      <th>2</th>\n",
              "      <td>ANDAMAN &amp; NICOBAR ISLANDS</td>\n",
              "      <td>1981</td>\n",
              "      <td>3</td>\n",
              "      <td>16.50</td>\n",
              "      <td>30.73</td>\n",
              "      <td>23.59</td>\n",
              "      <td>34.10</td>\n",
              "      <td>93.97</td>\n",
              "      <td>7.05</td>\n",
              "      <td>1.7</td>\n",
              "    </tr>\n",
              "    <tr>\n",
              "      <th>3</th>\n",
              "      <td>ANDAMAN &amp; NICOBAR ISLANDS</td>\n",
              "      <td>1981</td>\n",
              "      <td>4</td>\n",
              "      <td>21.06</td>\n",
              "      <td>35.07</td>\n",
              "      <td>28.04</td>\n",
              "      <td>35.36</td>\n",
              "      <td>93.78</td>\n",
              "      <td>9.35</td>\n",
              "      <td>94.1</td>\n",
              "    </tr>\n",
              "    <tr>\n",
              "      <th>4</th>\n",
              "      <td>ANDAMAN &amp; NICOBAR ISLANDS</td>\n",
              "      <td>1981</td>\n",
              "      <td>5</td>\n",
              "      <td>23.54</td>\n",
              "      <td>36.59</td>\n",
              "      <td>30.04</td>\n",
              "      <td>64.94</td>\n",
              "      <td>93.66</td>\n",
              "      <td>8.31</td>\n",
              "      <td>270.8</td>\n",
              "    </tr>\n",
              "  </tbody>\n",
              "</table>\n",
              "</div>\n",
              "      <button class=\"colab-df-convert\" onclick=\"convertToInteractive('df-81ee8d98-acfd-4970-945b-a348ee60fe34')\"\n",
              "              title=\"Convert this dataframe to an interactive table.\"\n",
              "              style=\"display:none;\">\n",
              "        \n",
              "  <svg xmlns=\"http://www.w3.org/2000/svg\" height=\"24px\"viewBox=\"0 0 24 24\"\n",
              "       width=\"24px\">\n",
              "    <path d=\"M0 0h24v24H0V0z\" fill=\"none\"/>\n",
              "    <path d=\"M18.56 5.44l.94 2.06.94-2.06 2.06-.94-2.06-.94-.94-2.06-.94 2.06-2.06.94zm-11 1L8.5 8.5l.94-2.06 2.06-.94-2.06-.94L8.5 2.5l-.94 2.06-2.06.94zm10 10l.94 2.06.94-2.06 2.06-.94-2.06-.94-.94-2.06-.94 2.06-2.06.94z\"/><path d=\"M17.41 7.96l-1.37-1.37c-.4-.4-.92-.59-1.43-.59-.52 0-1.04.2-1.43.59L10.3 9.45l-7.72 7.72c-.78.78-.78 2.05 0 2.83L4 21.41c.39.39.9.59 1.41.59.51 0 1.02-.2 1.41-.59l7.78-7.78 2.81-2.81c.8-.78.8-2.07 0-2.86zM5.41 20L4 18.59l7.72-7.72 1.47 1.35L5.41 20z\"/>\n",
              "  </svg>\n",
              "      </button>\n",
              "      \n",
              "  <style>\n",
              "    .colab-df-container {\n",
              "      display:flex;\n",
              "      flex-wrap:wrap;\n",
              "      gap: 12px;\n",
              "    }\n",
              "\n",
              "    .colab-df-convert {\n",
              "      background-color: #E8F0FE;\n",
              "      border: none;\n",
              "      border-radius: 50%;\n",
              "      cursor: pointer;\n",
              "      display: none;\n",
              "      fill: #1967D2;\n",
              "      height: 32px;\n",
              "      padding: 0 0 0 0;\n",
              "      width: 32px;\n",
              "    }\n",
              "\n",
              "    .colab-df-convert:hover {\n",
              "      background-color: #E2EBFA;\n",
              "      box-shadow: 0px 1px 2px rgba(60, 64, 67, 0.3), 0px 1px 3px 1px rgba(60, 64, 67, 0.15);\n",
              "      fill: #174EA6;\n",
              "    }\n",
              "\n",
              "    [theme=dark] .colab-df-convert {\n",
              "      background-color: #3B4455;\n",
              "      fill: #D2E3FC;\n",
              "    }\n",
              "\n",
              "    [theme=dark] .colab-df-convert:hover {\n",
              "      background-color: #434B5C;\n",
              "      box-shadow: 0px 1px 3px 1px rgba(0, 0, 0, 0.15);\n",
              "      filter: drop-shadow(0px 1px 2px rgba(0, 0, 0, 0.3));\n",
              "      fill: #FFFFFF;\n",
              "    }\n",
              "  </style>\n",
              "\n",
              "      <script>\n",
              "        const buttonEl =\n",
              "          document.querySelector('#df-81ee8d98-acfd-4970-945b-a348ee60fe34 button.colab-df-convert');\n",
              "        buttonEl.style.display =\n",
              "          google.colab.kernel.accessAllowed ? 'block' : 'none';\n",
              "\n",
              "        async function convertToInteractive(key) {\n",
              "          const element = document.querySelector('#df-81ee8d98-acfd-4970-945b-a348ee60fe34');\n",
              "          const dataTable =\n",
              "            await google.colab.kernel.invokeFunction('convertToInteractive',\n",
              "                                                     [key], {});\n",
              "          if (!dataTable) return;\n",
              "\n",
              "          const docLinkHtml = 'Like what you see? Visit the ' +\n",
              "            '<a target=\"_blank\" href=https://colab.research.google.com/notebooks/data_table.ipynb>data table notebook</a>'\n",
              "            + ' to learn more about interactive tables.';\n",
              "          element.innerHTML = '';\n",
              "          dataTable['output_type'] = 'display_data';\n",
              "          await google.colab.output.renderOutput(dataTable, element);\n",
              "          const docLink = document.createElement('div');\n",
              "          docLink.innerHTML = docLinkHtml;\n",
              "          element.appendChild(docLink);\n",
              "        }\n",
              "      </script>\n",
              "    </div>\n",
              "  </div>\n",
              "  "
            ]
          },
          "metadata": {},
          "execution_count": 2
        }
      ]
    },
    {
      "cell_type": "code",
      "source": [
        "rain_df.info()"
      ],
      "metadata": {
        "colab": {
          "base_uri": "https://localhost:8080/"
        },
        "id": "_J5bcjeIwS0C",
        "outputId": "1295dea8-6867-498c-b418-95ce5ca0baf0"
      },
      "execution_count": 19,
      "outputs": [
        {
          "output_type": "stream",
          "name": "stdout",
          "text": [
            "<class 'pandas.core.frame.DataFrame'>\n",
            "RangeIndex: 15120 entries, 0 to 15119\n",
            "Data columns (total 10 columns):\n",
            " #   Column       Non-Null Count  Dtype  \n",
            "---  ------       --------------  -----  \n",
            " 0   SUBDIVISION  15120 non-null  object \n",
            " 1   YEAR         15120 non-null  int64  \n",
            " 2   MONTH        15120 non-null  int64  \n",
            " 3   MAX_TEMP     15120 non-null  float64\n",
            " 4   MIN_TEMP     15120 non-null  float64\n",
            " 5   MEAN_TEMP    15120 non-null  float64\n",
            " 6   PRECEPTIONS  15120 non-null  float64\n",
            " 7   PRESSURE     15120 non-null  float64\n",
            " 8   WIND_SPEED   15120 non-null  float64\n",
            " 9   RAINFALL     15120 non-null  float64\n",
            "dtypes: float64(7), int64(2), object(1)\n",
            "memory usage: 1.2+ MB\n"
          ]
        }
      ]
    },
    {
      "cell_type": "code",
      "source": [
        "from sklearn.preprocessing import LabelEncoder\n",
        "\n",
        "lab = LabelEncoder()\n",
        "rain_df.SUBDIVISION = lab.fit_transform(rain_df.SUBDIVISION)\n",
        "\n",
        "rain_df.head()"
      ],
      "metadata": {
        "colab": {
          "base_uri": "https://localhost:8080/",
          "height": 206
        },
        "id": "9dNE1XPTwaTJ",
        "outputId": "2b5e3a8b-04d8-4a83-96da-c521aaf17a2a"
      },
      "execution_count": 21,
      "outputs": [
        {
          "output_type": "execute_result",
          "data": {
            "text/plain": [
              "   SUBDIVISION  YEAR  MONTH  MAX_TEMP  MIN_TEMP  MEAN_TEMP  PRECEPTIONS  \\\n",
              "0            0  1981      1     10.68     23.80      17.21        20.71   \n",
              "1            0  1981      2     12.99     27.48      20.21         8.59   \n",
              "2            0  1981      3     16.50     30.73      23.59        34.10   \n",
              "3            0  1981      4     21.06     35.07      28.04        35.36   \n",
              "4            0  1981      5     23.54     36.59      30.04        64.94   \n",
              "\n",
              "   PRESSURE  WIND_SPEED  RAINFALL  \n",
              "0     94.20        7.29      11.1  \n",
              "1     94.10        7.15      27.8  \n",
              "2     93.97        7.05       1.7  \n",
              "3     93.78        9.35      94.1  \n",
              "4     93.66        8.31     270.8  "
            ],
            "text/html": [
              "\n",
              "  <div id=\"df-cc45df84-d4aa-4b5a-9f7e-549e97555cb9\">\n",
              "    <div class=\"colab-df-container\">\n",
              "      <div>\n",
              "<style scoped>\n",
              "    .dataframe tbody tr th:only-of-type {\n",
              "        vertical-align: middle;\n",
              "    }\n",
              "\n",
              "    .dataframe tbody tr th {\n",
              "        vertical-align: top;\n",
              "    }\n",
              "\n",
              "    .dataframe thead th {\n",
              "        text-align: right;\n",
              "    }\n",
              "</style>\n",
              "<table border=\"1\" class=\"dataframe\">\n",
              "  <thead>\n",
              "    <tr style=\"text-align: right;\">\n",
              "      <th></th>\n",
              "      <th>SUBDIVISION</th>\n",
              "      <th>YEAR</th>\n",
              "      <th>MONTH</th>\n",
              "      <th>MAX_TEMP</th>\n",
              "      <th>MIN_TEMP</th>\n",
              "      <th>MEAN_TEMP</th>\n",
              "      <th>PRECEPTIONS</th>\n",
              "      <th>PRESSURE</th>\n",
              "      <th>WIND_SPEED</th>\n",
              "      <th>RAINFALL</th>\n",
              "    </tr>\n",
              "  </thead>\n",
              "  <tbody>\n",
              "    <tr>\n",
              "      <th>0</th>\n",
              "      <td>0</td>\n",
              "      <td>1981</td>\n",
              "      <td>1</td>\n",
              "      <td>10.68</td>\n",
              "      <td>23.80</td>\n",
              "      <td>17.21</td>\n",
              "      <td>20.71</td>\n",
              "      <td>94.20</td>\n",
              "      <td>7.29</td>\n",
              "      <td>11.1</td>\n",
              "    </tr>\n",
              "    <tr>\n",
              "      <th>1</th>\n",
              "      <td>0</td>\n",
              "      <td>1981</td>\n",
              "      <td>2</td>\n",
              "      <td>12.99</td>\n",
              "      <td>27.48</td>\n",
              "      <td>20.21</td>\n",
              "      <td>8.59</td>\n",
              "      <td>94.10</td>\n",
              "      <td>7.15</td>\n",
              "      <td>27.8</td>\n",
              "    </tr>\n",
              "    <tr>\n",
              "      <th>2</th>\n",
              "      <td>0</td>\n",
              "      <td>1981</td>\n",
              "      <td>3</td>\n",
              "      <td>16.50</td>\n",
              "      <td>30.73</td>\n",
              "      <td>23.59</td>\n",
              "      <td>34.10</td>\n",
              "      <td>93.97</td>\n",
              "      <td>7.05</td>\n",
              "      <td>1.7</td>\n",
              "    </tr>\n",
              "    <tr>\n",
              "      <th>3</th>\n",
              "      <td>0</td>\n",
              "      <td>1981</td>\n",
              "      <td>4</td>\n",
              "      <td>21.06</td>\n",
              "      <td>35.07</td>\n",
              "      <td>28.04</td>\n",
              "      <td>35.36</td>\n",
              "      <td>93.78</td>\n",
              "      <td>9.35</td>\n",
              "      <td>94.1</td>\n",
              "    </tr>\n",
              "    <tr>\n",
              "      <th>4</th>\n",
              "      <td>0</td>\n",
              "      <td>1981</td>\n",
              "      <td>5</td>\n",
              "      <td>23.54</td>\n",
              "      <td>36.59</td>\n",
              "      <td>30.04</td>\n",
              "      <td>64.94</td>\n",
              "      <td>93.66</td>\n",
              "      <td>8.31</td>\n",
              "      <td>270.8</td>\n",
              "    </tr>\n",
              "  </tbody>\n",
              "</table>\n",
              "</div>\n",
              "      <button class=\"colab-df-convert\" onclick=\"convertToInteractive('df-cc45df84-d4aa-4b5a-9f7e-549e97555cb9')\"\n",
              "              title=\"Convert this dataframe to an interactive table.\"\n",
              "              style=\"display:none;\">\n",
              "        \n",
              "  <svg xmlns=\"http://www.w3.org/2000/svg\" height=\"24px\"viewBox=\"0 0 24 24\"\n",
              "       width=\"24px\">\n",
              "    <path d=\"M0 0h24v24H0V0z\" fill=\"none\"/>\n",
              "    <path d=\"M18.56 5.44l.94 2.06.94-2.06 2.06-.94-2.06-.94-.94-2.06-.94 2.06-2.06.94zm-11 1L8.5 8.5l.94-2.06 2.06-.94-2.06-.94L8.5 2.5l-.94 2.06-2.06.94zm10 10l.94 2.06.94-2.06 2.06-.94-2.06-.94-.94-2.06-.94 2.06-2.06.94z\"/><path d=\"M17.41 7.96l-1.37-1.37c-.4-.4-.92-.59-1.43-.59-.52 0-1.04.2-1.43.59L10.3 9.45l-7.72 7.72c-.78.78-.78 2.05 0 2.83L4 21.41c.39.39.9.59 1.41.59.51 0 1.02-.2 1.41-.59l7.78-7.78 2.81-2.81c.8-.78.8-2.07 0-2.86zM5.41 20L4 18.59l7.72-7.72 1.47 1.35L5.41 20z\"/>\n",
              "  </svg>\n",
              "      </button>\n",
              "      \n",
              "  <style>\n",
              "    .colab-df-container {\n",
              "      display:flex;\n",
              "      flex-wrap:wrap;\n",
              "      gap: 12px;\n",
              "    }\n",
              "\n",
              "    .colab-df-convert {\n",
              "      background-color: #E8F0FE;\n",
              "      border: none;\n",
              "      border-radius: 50%;\n",
              "      cursor: pointer;\n",
              "      display: none;\n",
              "      fill: #1967D2;\n",
              "      height: 32px;\n",
              "      padding: 0 0 0 0;\n",
              "      width: 32px;\n",
              "    }\n",
              "\n",
              "    .colab-df-convert:hover {\n",
              "      background-color: #E2EBFA;\n",
              "      box-shadow: 0px 1px 2px rgba(60, 64, 67, 0.3), 0px 1px 3px 1px rgba(60, 64, 67, 0.15);\n",
              "      fill: #174EA6;\n",
              "    }\n",
              "\n",
              "    [theme=dark] .colab-df-convert {\n",
              "      background-color: #3B4455;\n",
              "      fill: #D2E3FC;\n",
              "    }\n",
              "\n",
              "    [theme=dark] .colab-df-convert:hover {\n",
              "      background-color: #434B5C;\n",
              "      box-shadow: 0px 1px 3px 1px rgba(0, 0, 0, 0.15);\n",
              "      filter: drop-shadow(0px 1px 2px rgba(0, 0, 0, 0.3));\n",
              "      fill: #FFFFFF;\n",
              "    }\n",
              "  </style>\n",
              "\n",
              "      <script>\n",
              "        const buttonEl =\n",
              "          document.querySelector('#df-cc45df84-d4aa-4b5a-9f7e-549e97555cb9 button.colab-df-convert');\n",
              "        buttonEl.style.display =\n",
              "          google.colab.kernel.accessAllowed ? 'block' : 'none';\n",
              "\n",
              "        async function convertToInteractive(key) {\n",
              "          const element = document.querySelector('#df-cc45df84-d4aa-4b5a-9f7e-549e97555cb9');\n",
              "          const dataTable =\n",
              "            await google.colab.kernel.invokeFunction('convertToInteractive',\n",
              "                                                     [key], {});\n",
              "          if (!dataTable) return;\n",
              "\n",
              "          const docLinkHtml = 'Like what you see? Visit the ' +\n",
              "            '<a target=\"_blank\" href=https://colab.research.google.com/notebooks/data_table.ipynb>data table notebook</a>'\n",
              "            + ' to learn more about interactive tables.';\n",
              "          element.innerHTML = '';\n",
              "          dataTable['output_type'] = 'display_data';\n",
              "          await google.colab.output.renderOutput(dataTable, element);\n",
              "          const docLink = document.createElement('div');\n",
              "          docLink.innerHTML = docLinkHtml;\n",
              "          element.appendChild(docLink);\n",
              "        }\n",
              "      </script>\n",
              "    </div>\n",
              "  </div>\n",
              "  "
            ]
          },
          "metadata": {},
          "execution_count": 21
        }
      ]
    },
    {
      "cell_type": "code",
      "source": [
        "rain_df.SUBDIVISION.unique()"
      ],
      "metadata": {
        "colab": {
          "base_uri": "https://localhost:8080/"
        },
        "id": "BaYWnyv2wdlz",
        "outputId": "4e1b90cc-dc68-40fd-dce9-08a70ab41dc6"
      },
      "execution_count": 22,
      "outputs": [
        {
          "output_type": "execute_result",
          "data": {
            "text/plain": [
              "array([ 0,  1,  2, 21, 28, 10, 23, 15,  3,  9, 35, 31, 12, 24, 13, 14, 34,\n",
              "        8, 33,  7, 11, 26, 17, 19, 20, 32,  4,  5, 30, 25, 29,  6, 22, 27,\n",
              "       16, 18])"
            ]
          },
          "metadata": {},
          "execution_count": 22
        }
      ]
    },
    {
      "cell_type": "code",
      "source": [
        "feature=rain_df[[\"SUBDIVISION\",\"MONTH\",\"MAX_TEMP\",\"MIN_TEMP\",\"MEAN_TEMP\",\"PRECEPTIONS\",\"PRESSURE\",\"WIND_SPEED\"]]\n",
        "target=rain_df[\"RAINFALL\"]"
      ],
      "metadata": {
        "id": "dPdmlwdxw0nz"
      },
      "execution_count": 23,
      "outputs": []
    },
    {
      "cell_type": "markdown",
      "source": [
        "Training & Testing"
      ],
      "metadata": {
        "id": "OcbY0Ue46QlL"
      }
    },
    {
      "cell_type": "code",
      "source": [
        "acc=[]\n",
        "model=[]"
      ],
      "metadata": {
        "id": "RrumpoJWw33k"
      },
      "execution_count": 24,
      "outputs": []
    },
    {
      "cell_type": "code",
      "source": [
        "from sklearn.model_selection import train_test_split\n",
        "X_train,X_test,y_train,y_test=train_test_split(feature,target,test_size=0.2,random_state=2)"
      ],
      "metadata": {
        "id": "DVwnqgHsxAH3"
      },
      "execution_count": 25,
      "outputs": []
    },
    {
      "cell_type": "code",
      "source": [
        "X_train"
      ],
      "metadata": {
        "colab": {
          "base_uri": "https://localhost:8080/",
          "height": 424
        },
        "id": "kWaWH_7wxI3J",
        "outputId": "ff6b36ba-952b-43bf-b852-51c3a5dbcafe"
      },
      "execution_count": 26,
      "outputs": [
        {
          "output_type": "execute_result",
          "data": {
            "text/plain": [
              "       SUBDIVISION  MONTH  MAX_TEMP  MIN_TEMP  MEAN_TEMP  PRECEPTIONS  \\\n",
              "14492           16      9     22.57     31.06      26.79       193.59   \n",
              "6598            14     11     14.50     28.02      21.23        21.16   \n",
              "1554            21      7     23.41     31.20      27.28       290.72   \n",
              "8237             7      6     24.45     34.84      29.62       154.33   \n",
              "12007           30      8     23.22     30.54      26.85       218.93   \n",
              "...            ...    ...       ...       ...        ...          ...   \n",
              "11798           30      3     17.20     32.48      24.82        12.59   \n",
              "13896           27      1     10.50     23.81      17.13        17.29   \n",
              "6637            14      2     14.53     29.01      21.75         6.71   \n",
              "2575            23      8     22.82     30.28      26.52       241.93   \n",
              "7336             8      5     22.84     35.88      29.34        39.16   \n",
              "\n",
              "       PRESSURE  WIND_SPEED  \n",
              "14492     93.63        8.59  \n",
              "6598      94.11        7.28  \n",
              "1554      93.61       13.95  \n",
              "8237      93.57       12.12  \n",
              "12007     93.68        8.98  \n",
              "...         ...         ...  \n",
              "11798     93.94        7.80  \n",
              "13896     93.98        7.57  \n",
              "6637      94.03        7.86  \n",
              "2575      93.62        8.38  \n",
              "7336      93.74       10.20  \n",
              "\n",
              "[12096 rows x 8 columns]"
            ],
            "text/html": [
              "\n",
              "  <div id=\"df-6a534e7b-c208-4303-bac4-014fa5c686c3\">\n",
              "    <div class=\"colab-df-container\">\n",
              "      <div>\n",
              "<style scoped>\n",
              "    .dataframe tbody tr th:only-of-type {\n",
              "        vertical-align: middle;\n",
              "    }\n",
              "\n",
              "    .dataframe tbody tr th {\n",
              "        vertical-align: top;\n",
              "    }\n",
              "\n",
              "    .dataframe thead th {\n",
              "        text-align: right;\n",
              "    }\n",
              "</style>\n",
              "<table border=\"1\" class=\"dataframe\">\n",
              "  <thead>\n",
              "    <tr style=\"text-align: right;\">\n",
              "      <th></th>\n",
              "      <th>SUBDIVISION</th>\n",
              "      <th>MONTH</th>\n",
              "      <th>MAX_TEMP</th>\n",
              "      <th>MIN_TEMP</th>\n",
              "      <th>MEAN_TEMP</th>\n",
              "      <th>PRECEPTIONS</th>\n",
              "      <th>PRESSURE</th>\n",
              "      <th>WIND_SPEED</th>\n",
              "    </tr>\n",
              "  </thead>\n",
              "  <tbody>\n",
              "    <tr>\n",
              "      <th>14492</th>\n",
              "      <td>16</td>\n",
              "      <td>9</td>\n",
              "      <td>22.57</td>\n",
              "      <td>31.06</td>\n",
              "      <td>26.79</td>\n",
              "      <td>193.59</td>\n",
              "      <td>93.63</td>\n",
              "      <td>8.59</td>\n",
              "    </tr>\n",
              "    <tr>\n",
              "      <th>6598</th>\n",
              "      <td>14</td>\n",
              "      <td>11</td>\n",
              "      <td>14.50</td>\n",
              "      <td>28.02</td>\n",
              "      <td>21.23</td>\n",
              "      <td>21.16</td>\n",
              "      <td>94.11</td>\n",
              "      <td>7.28</td>\n",
              "    </tr>\n",
              "    <tr>\n",
              "      <th>1554</th>\n",
              "      <td>21</td>\n",
              "      <td>7</td>\n",
              "      <td>23.41</td>\n",
              "      <td>31.20</td>\n",
              "      <td>27.28</td>\n",
              "      <td>290.72</td>\n",
              "      <td>93.61</td>\n",
              "      <td>13.95</td>\n",
              "    </tr>\n",
              "    <tr>\n",
              "      <th>8237</th>\n",
              "      <td>7</td>\n",
              "      <td>6</td>\n",
              "      <td>24.45</td>\n",
              "      <td>34.84</td>\n",
              "      <td>29.62</td>\n",
              "      <td>154.33</td>\n",
              "      <td>93.57</td>\n",
              "      <td>12.12</td>\n",
              "    </tr>\n",
              "    <tr>\n",
              "      <th>12007</th>\n",
              "      <td>30</td>\n",
              "      <td>8</td>\n",
              "      <td>23.22</td>\n",
              "      <td>30.54</td>\n",
              "      <td>26.85</td>\n",
              "      <td>218.93</td>\n",
              "      <td>93.68</td>\n",
              "      <td>8.98</td>\n",
              "    </tr>\n",
              "    <tr>\n",
              "      <th>...</th>\n",
              "      <td>...</td>\n",
              "      <td>...</td>\n",
              "      <td>...</td>\n",
              "      <td>...</td>\n",
              "      <td>...</td>\n",
              "      <td>...</td>\n",
              "      <td>...</td>\n",
              "      <td>...</td>\n",
              "    </tr>\n",
              "    <tr>\n",
              "      <th>11798</th>\n",
              "      <td>30</td>\n",
              "      <td>3</td>\n",
              "      <td>17.20</td>\n",
              "      <td>32.48</td>\n",
              "      <td>24.82</td>\n",
              "      <td>12.59</td>\n",
              "      <td>93.94</td>\n",
              "      <td>7.80</td>\n",
              "    </tr>\n",
              "    <tr>\n",
              "      <th>13896</th>\n",
              "      <td>27</td>\n",
              "      <td>1</td>\n",
              "      <td>10.50</td>\n",
              "      <td>23.81</td>\n",
              "      <td>17.13</td>\n",
              "      <td>17.29</td>\n",
              "      <td>93.98</td>\n",
              "      <td>7.57</td>\n",
              "    </tr>\n",
              "    <tr>\n",
              "      <th>6637</th>\n",
              "      <td>14</td>\n",
              "      <td>2</td>\n",
              "      <td>14.53</td>\n",
              "      <td>29.01</td>\n",
              "      <td>21.75</td>\n",
              "      <td>6.71</td>\n",
              "      <td>94.03</td>\n",
              "      <td>7.86</td>\n",
              "    </tr>\n",
              "    <tr>\n",
              "      <th>2575</th>\n",
              "      <td>23</td>\n",
              "      <td>8</td>\n",
              "      <td>22.82</td>\n",
              "      <td>30.28</td>\n",
              "      <td>26.52</td>\n",
              "      <td>241.93</td>\n",
              "      <td>93.62</td>\n",
              "      <td>8.38</td>\n",
              "    </tr>\n",
              "    <tr>\n",
              "      <th>7336</th>\n",
              "      <td>8</td>\n",
              "      <td>5</td>\n",
              "      <td>22.84</td>\n",
              "      <td>35.88</td>\n",
              "      <td>29.34</td>\n",
              "      <td>39.16</td>\n",
              "      <td>93.74</td>\n",
              "      <td>10.20</td>\n",
              "    </tr>\n",
              "  </tbody>\n",
              "</table>\n",
              "<p>12096 rows × 8 columns</p>\n",
              "</div>\n",
              "      <button class=\"colab-df-convert\" onclick=\"convertToInteractive('df-6a534e7b-c208-4303-bac4-014fa5c686c3')\"\n",
              "              title=\"Convert this dataframe to an interactive table.\"\n",
              "              style=\"display:none;\">\n",
              "        \n",
              "  <svg xmlns=\"http://www.w3.org/2000/svg\" height=\"24px\"viewBox=\"0 0 24 24\"\n",
              "       width=\"24px\">\n",
              "    <path d=\"M0 0h24v24H0V0z\" fill=\"none\"/>\n",
              "    <path d=\"M18.56 5.44l.94 2.06.94-2.06 2.06-.94-2.06-.94-.94-2.06-.94 2.06-2.06.94zm-11 1L8.5 8.5l.94-2.06 2.06-.94-2.06-.94L8.5 2.5l-.94 2.06-2.06.94zm10 10l.94 2.06.94-2.06 2.06-.94-2.06-.94-.94-2.06-.94 2.06-2.06.94z\"/><path d=\"M17.41 7.96l-1.37-1.37c-.4-.4-.92-.59-1.43-.59-.52 0-1.04.2-1.43.59L10.3 9.45l-7.72 7.72c-.78.78-.78 2.05 0 2.83L4 21.41c.39.39.9.59 1.41.59.51 0 1.02-.2 1.41-.59l7.78-7.78 2.81-2.81c.8-.78.8-2.07 0-2.86zM5.41 20L4 18.59l7.72-7.72 1.47 1.35L5.41 20z\"/>\n",
              "  </svg>\n",
              "      </button>\n",
              "      \n",
              "  <style>\n",
              "    .colab-df-container {\n",
              "      display:flex;\n",
              "      flex-wrap:wrap;\n",
              "      gap: 12px;\n",
              "    }\n",
              "\n",
              "    .colab-df-convert {\n",
              "      background-color: #E8F0FE;\n",
              "      border: none;\n",
              "      border-radius: 50%;\n",
              "      cursor: pointer;\n",
              "      display: none;\n",
              "      fill: #1967D2;\n",
              "      height: 32px;\n",
              "      padding: 0 0 0 0;\n",
              "      width: 32px;\n",
              "    }\n",
              "\n",
              "    .colab-df-convert:hover {\n",
              "      background-color: #E2EBFA;\n",
              "      box-shadow: 0px 1px 2px rgba(60, 64, 67, 0.3), 0px 1px 3px 1px rgba(60, 64, 67, 0.15);\n",
              "      fill: #174EA6;\n",
              "    }\n",
              "\n",
              "    [theme=dark] .colab-df-convert {\n",
              "      background-color: #3B4455;\n",
              "      fill: #D2E3FC;\n",
              "    }\n",
              "\n",
              "    [theme=dark] .colab-df-convert:hover {\n",
              "      background-color: #434B5C;\n",
              "      box-shadow: 0px 1px 3px 1px rgba(0, 0, 0, 0.15);\n",
              "      filter: drop-shadow(0px 1px 2px rgba(0, 0, 0, 0.3));\n",
              "      fill: #FFFFFF;\n",
              "    }\n",
              "  </style>\n",
              "\n",
              "      <script>\n",
              "        const buttonEl =\n",
              "          document.querySelector('#df-6a534e7b-c208-4303-bac4-014fa5c686c3 button.colab-df-convert');\n",
              "        buttonEl.style.display =\n",
              "          google.colab.kernel.accessAllowed ? 'block' : 'none';\n",
              "\n",
              "        async function convertToInteractive(key) {\n",
              "          const element = document.querySelector('#df-6a534e7b-c208-4303-bac4-014fa5c686c3');\n",
              "          const dataTable =\n",
              "            await google.colab.kernel.invokeFunction('convertToInteractive',\n",
              "                                                     [key], {});\n",
              "          if (!dataTable) return;\n",
              "\n",
              "          const docLinkHtml = 'Like what you see? Visit the ' +\n",
              "            '<a target=\"_blank\" href=https://colab.research.google.com/notebooks/data_table.ipynb>data table notebook</a>'\n",
              "            + ' to learn more about interactive tables.';\n",
              "          element.innerHTML = '';\n",
              "          dataTable['output_type'] = 'display_data';\n",
              "          await google.colab.output.renderOutput(dataTable, element);\n",
              "          const docLink = document.createElement('div');\n",
              "          docLink.innerHTML = docLinkHtml;\n",
              "          element.appendChild(docLink);\n",
              "        }\n",
              "      </script>\n",
              "    </div>\n",
              "  </div>\n",
              "  "
            ]
          },
          "metadata": {},
          "execution_count": 26
        }
      ]
    },
    {
      "cell_type": "code",
      "source": [
        "y_train"
      ],
      "metadata": {
        "colab": {
          "base_uri": "https://localhost:8080/"
        },
        "id": "fEPRYJ07xLqC",
        "outputId": "103383ae-29f4-4533-d28a-2510a154a858"
      },
      "execution_count": 27,
      "outputs": [
        {
          "output_type": "execute_result",
          "data": {
            "text/plain": [
              "14492    517.6\n",
              "6598      21.8\n",
              "1554     301.5\n",
              "8237      93.5\n",
              "12007    266.8\n",
              "         ...  \n",
              "11798      4.7\n",
              "13896      2.1\n",
              "6637     117.9\n",
              "2575     460.9\n",
              "7336      14.2\n",
              "Name: RAINFALL, Length: 12096, dtype: float64"
            ]
          },
          "metadata": {},
          "execution_count": 27
        }
      ]
    },
    {
      "cell_type": "code",
      "source": [
        "X_test"
      ],
      "metadata": {
        "colab": {
          "base_uri": "https://localhost:8080/",
          "height": 424
        },
        "id": "s9oNLpS9xOvV",
        "outputId": "f0eccb56-80a8-4c8b-fef3-d83f6ec17c22"
      },
      "execution_count": 28,
      "outputs": [
        {
          "output_type": "execute_result",
          "data": {
            "text/plain": [
              "       SUBDIVISION  MONTH  MAX_TEMP  MIN_TEMP  MEAN_TEMP  PRECEPTIONS  \\\n",
              "12224           25      9     21.26     30.17      25.69       157.82   \n",
              "559              1      8     22.75     29.95      26.32       254.10   \n",
              "10735           32      8     23.26     30.54      26.87       237.03   \n",
              "13117            6      2     12.06     26.84      19.43         6.41   \n",
              "3670             3     11     15.69     28.71      22.18        31.97   \n",
              "...            ...    ...       ...       ...        ...          ...   \n",
              "946              2     11     14.78     28.20      21.47        15.52   \n",
              "12736           29      5     23.20     36.26      29.71        51.26   \n",
              "6162            13      7     23.86     31.60      27.70       230.07   \n",
              "12651           29      4     21.39     35.53      28.44        27.48   \n",
              "1404            21      1     10.88     24.60      17.72         7.86   \n",
              "\n",
              "       PRESSURE  WIND_SPEED  \n",
              "12224     93.77       10.71  \n",
              "559       93.67       11.95  \n",
              "10735     93.57       13.91  \n",
              "13117     94.11        7.82  \n",
              "3670      94.08        7.29  \n",
              "...         ...         ...  \n",
              "946       94.21        9.00  \n",
              "12736     93.70       10.02  \n",
              "6162      93.60        8.76  \n",
              "12651     93.67        9.02  \n",
              "1404      94.24        8.09  \n",
              "\n",
              "[3024 rows x 8 columns]"
            ],
            "text/html": [
              "\n",
              "  <div id=\"df-127f95e7-038b-4d2c-8f00-e1c26ae9fbe4\">\n",
              "    <div class=\"colab-df-container\">\n",
              "      <div>\n",
              "<style scoped>\n",
              "    .dataframe tbody tr th:only-of-type {\n",
              "        vertical-align: middle;\n",
              "    }\n",
              "\n",
              "    .dataframe tbody tr th {\n",
              "        vertical-align: top;\n",
              "    }\n",
              "\n",
              "    .dataframe thead th {\n",
              "        text-align: right;\n",
              "    }\n",
              "</style>\n",
              "<table border=\"1\" class=\"dataframe\">\n",
              "  <thead>\n",
              "    <tr style=\"text-align: right;\">\n",
              "      <th></th>\n",
              "      <th>SUBDIVISION</th>\n",
              "      <th>MONTH</th>\n",
              "      <th>MAX_TEMP</th>\n",
              "      <th>MIN_TEMP</th>\n",
              "      <th>MEAN_TEMP</th>\n",
              "      <th>PRECEPTIONS</th>\n",
              "      <th>PRESSURE</th>\n",
              "      <th>WIND_SPEED</th>\n",
              "    </tr>\n",
              "  </thead>\n",
              "  <tbody>\n",
              "    <tr>\n",
              "      <th>12224</th>\n",
              "      <td>25</td>\n",
              "      <td>9</td>\n",
              "      <td>21.26</td>\n",
              "      <td>30.17</td>\n",
              "      <td>25.69</td>\n",
              "      <td>157.82</td>\n",
              "      <td>93.77</td>\n",
              "      <td>10.71</td>\n",
              "    </tr>\n",
              "    <tr>\n",
              "      <th>559</th>\n",
              "      <td>1</td>\n",
              "      <td>8</td>\n",
              "      <td>22.75</td>\n",
              "      <td>29.95</td>\n",
              "      <td>26.32</td>\n",
              "      <td>254.10</td>\n",
              "      <td>93.67</td>\n",
              "      <td>11.95</td>\n",
              "    </tr>\n",
              "    <tr>\n",
              "      <th>10735</th>\n",
              "      <td>32</td>\n",
              "      <td>8</td>\n",
              "      <td>23.26</td>\n",
              "      <td>30.54</td>\n",
              "      <td>26.87</td>\n",
              "      <td>237.03</td>\n",
              "      <td>93.57</td>\n",
              "      <td>13.91</td>\n",
              "    </tr>\n",
              "    <tr>\n",
              "      <th>13117</th>\n",
              "      <td>6</td>\n",
              "      <td>2</td>\n",
              "      <td>12.06</td>\n",
              "      <td>26.84</td>\n",
              "      <td>19.43</td>\n",
              "      <td>6.41</td>\n",
              "      <td>94.11</td>\n",
              "      <td>7.82</td>\n",
              "    </tr>\n",
              "    <tr>\n",
              "      <th>3670</th>\n",
              "      <td>3</td>\n",
              "      <td>11</td>\n",
              "      <td>15.69</td>\n",
              "      <td>28.71</td>\n",
              "      <td>22.18</td>\n",
              "      <td>31.97</td>\n",
              "      <td>94.08</td>\n",
              "      <td>7.29</td>\n",
              "    </tr>\n",
              "    <tr>\n",
              "      <th>...</th>\n",
              "      <td>...</td>\n",
              "      <td>...</td>\n",
              "      <td>...</td>\n",
              "      <td>...</td>\n",
              "      <td>...</td>\n",
              "      <td>...</td>\n",
              "      <td>...</td>\n",
              "      <td>...</td>\n",
              "    </tr>\n",
              "    <tr>\n",
              "      <th>946</th>\n",
              "      <td>2</td>\n",
              "      <td>11</td>\n",
              "      <td>14.78</td>\n",
              "      <td>28.20</td>\n",
              "      <td>21.47</td>\n",
              "      <td>15.52</td>\n",
              "      <td>94.21</td>\n",
              "      <td>9.00</td>\n",
              "    </tr>\n",
              "    <tr>\n",
              "      <th>12736</th>\n",
              "      <td>29</td>\n",
              "      <td>5</td>\n",
              "      <td>23.20</td>\n",
              "      <td>36.26</td>\n",
              "      <td>29.71</td>\n",
              "      <td>51.26</td>\n",
              "      <td>93.70</td>\n",
              "      <td>10.02</td>\n",
              "    </tr>\n",
              "    <tr>\n",
              "      <th>6162</th>\n",
              "      <td>13</td>\n",
              "      <td>7</td>\n",
              "      <td>23.86</td>\n",
              "      <td>31.60</td>\n",
              "      <td>27.70</td>\n",
              "      <td>230.07</td>\n",
              "      <td>93.60</td>\n",
              "      <td>8.76</td>\n",
              "    </tr>\n",
              "    <tr>\n",
              "      <th>12651</th>\n",
              "      <td>29</td>\n",
              "      <td>4</td>\n",
              "      <td>21.39</td>\n",
              "      <td>35.53</td>\n",
              "      <td>28.44</td>\n",
              "      <td>27.48</td>\n",
              "      <td>93.67</td>\n",
              "      <td>9.02</td>\n",
              "    </tr>\n",
              "    <tr>\n",
              "      <th>1404</th>\n",
              "      <td>21</td>\n",
              "      <td>1</td>\n",
              "      <td>10.88</td>\n",
              "      <td>24.60</td>\n",
              "      <td>17.72</td>\n",
              "      <td>7.86</td>\n",
              "      <td>94.24</td>\n",
              "      <td>8.09</td>\n",
              "    </tr>\n",
              "  </tbody>\n",
              "</table>\n",
              "<p>3024 rows × 8 columns</p>\n",
              "</div>\n",
              "      <button class=\"colab-df-convert\" onclick=\"convertToInteractive('df-127f95e7-038b-4d2c-8f00-e1c26ae9fbe4')\"\n",
              "              title=\"Convert this dataframe to an interactive table.\"\n",
              "              style=\"display:none;\">\n",
              "        \n",
              "  <svg xmlns=\"http://www.w3.org/2000/svg\" height=\"24px\"viewBox=\"0 0 24 24\"\n",
              "       width=\"24px\">\n",
              "    <path d=\"M0 0h24v24H0V0z\" fill=\"none\"/>\n",
              "    <path d=\"M18.56 5.44l.94 2.06.94-2.06 2.06-.94-2.06-.94-.94-2.06-.94 2.06-2.06.94zm-11 1L8.5 8.5l.94-2.06 2.06-.94-2.06-.94L8.5 2.5l-.94 2.06-2.06.94zm10 10l.94 2.06.94-2.06 2.06-.94-2.06-.94-.94-2.06-.94 2.06-2.06.94z\"/><path d=\"M17.41 7.96l-1.37-1.37c-.4-.4-.92-.59-1.43-.59-.52 0-1.04.2-1.43.59L10.3 9.45l-7.72 7.72c-.78.78-.78 2.05 0 2.83L4 21.41c.39.39.9.59 1.41.59.51 0 1.02-.2 1.41-.59l7.78-7.78 2.81-2.81c.8-.78.8-2.07 0-2.86zM5.41 20L4 18.59l7.72-7.72 1.47 1.35L5.41 20z\"/>\n",
              "  </svg>\n",
              "      </button>\n",
              "      \n",
              "  <style>\n",
              "    .colab-df-container {\n",
              "      display:flex;\n",
              "      flex-wrap:wrap;\n",
              "      gap: 12px;\n",
              "    }\n",
              "\n",
              "    .colab-df-convert {\n",
              "      background-color: #E8F0FE;\n",
              "      border: none;\n",
              "      border-radius: 50%;\n",
              "      cursor: pointer;\n",
              "      display: none;\n",
              "      fill: #1967D2;\n",
              "      height: 32px;\n",
              "      padding: 0 0 0 0;\n",
              "      width: 32px;\n",
              "    }\n",
              "\n",
              "    .colab-df-convert:hover {\n",
              "      background-color: #E2EBFA;\n",
              "      box-shadow: 0px 1px 2px rgba(60, 64, 67, 0.3), 0px 1px 3px 1px rgba(60, 64, 67, 0.15);\n",
              "      fill: #174EA6;\n",
              "    }\n",
              "\n",
              "    [theme=dark] .colab-df-convert {\n",
              "      background-color: #3B4455;\n",
              "      fill: #D2E3FC;\n",
              "    }\n",
              "\n",
              "    [theme=dark] .colab-df-convert:hover {\n",
              "      background-color: #434B5C;\n",
              "      box-shadow: 0px 1px 3px 1px rgba(0, 0, 0, 0.15);\n",
              "      filter: drop-shadow(0px 1px 2px rgba(0, 0, 0, 0.3));\n",
              "      fill: #FFFFFF;\n",
              "    }\n",
              "  </style>\n",
              "\n",
              "      <script>\n",
              "        const buttonEl =\n",
              "          document.querySelector('#df-127f95e7-038b-4d2c-8f00-e1c26ae9fbe4 button.colab-df-convert');\n",
              "        buttonEl.style.display =\n",
              "          google.colab.kernel.accessAllowed ? 'block' : 'none';\n",
              "\n",
              "        async function convertToInteractive(key) {\n",
              "          const element = document.querySelector('#df-127f95e7-038b-4d2c-8f00-e1c26ae9fbe4');\n",
              "          const dataTable =\n",
              "            await google.colab.kernel.invokeFunction('convertToInteractive',\n",
              "                                                     [key], {});\n",
              "          if (!dataTable) return;\n",
              "\n",
              "          const docLinkHtml = 'Like what you see? Visit the ' +\n",
              "            '<a target=\"_blank\" href=https://colab.research.google.com/notebooks/data_table.ipynb>data table notebook</a>'\n",
              "            + ' to learn more about interactive tables.';\n",
              "          element.innerHTML = '';\n",
              "          dataTable['output_type'] = 'display_data';\n",
              "          await google.colab.output.renderOutput(dataTable, element);\n",
              "          const docLink = document.createElement('div');\n",
              "          docLink.innerHTML = docLinkHtml;\n",
              "          element.appendChild(docLink);\n",
              "        }\n",
              "      </script>\n",
              "    </div>\n",
              "  </div>\n",
              "  "
            ]
          },
          "metadata": {},
          "execution_count": 28
        }
      ]
    },
    {
      "cell_type": "code",
      "source": [
        "y_test"
      ],
      "metadata": {
        "colab": {
          "base_uri": "https://localhost:8080/"
        },
        "id": "PoFQZxgdxRqI",
        "outputId": "b76b822f-6e38-447e-d6c9-6d508367500a"
      },
      "execution_count": 29,
      "outputs": [
        {
          "output_type": "execute_result",
          "data": {
            "text/plain": [
              "12224    130.9\n",
              "559      294.3\n",
              "10735    286.2\n",
              "13117      0.0\n",
              "3670       2.9\n",
              "         ...  \n",
              "946       16.2\n",
              "12736     58.3\n",
              "6162     141.3\n",
              "12651     43.9\n",
              "1404      11.1\n",
              "Name: RAINFALL, Length: 3024, dtype: float64"
            ]
          },
          "metadata": {},
          "execution_count": 29
        }
      ]
    },
    {
      "cell_type": "markdown",
      "source": [
        "Build Model-Model Evaluation"
      ],
      "metadata": {
        "id": "NOO3uVhixVuP"
      }
    },
    {
      "cell_type": "markdown",
      "source": [
        "Decision Tree"
      ],
      "metadata": {
        "id": "VJmfZLFwxdsT"
      }
    },
    {
      "cell_type": "code",
      "source": [
        "from sklearn.tree import DecisionTreeRegressor\n",
        "from sklearn.metrics import roc_auc_score,classification_report,mean_squared_error,r2_score"
      ],
      "metadata": {
        "id": "6WzMTduExhW0"
      },
      "execution_count": 30,
      "outputs": []
    },
    {
      "cell_type": "code",
      "source": [
        "# create a regressor object\n",
        "dtregressor = DecisionTreeRegressor(random_state = 0)\n",
        "\n",
        "# fit the regressor with X and Y data\n",
        "dtregressor.fit(X_train, y_train)"
      ],
      "metadata": {
        "colab": {
          "base_uri": "https://localhost:8080/"
        },
        "id": "JNC8TQV1xvtU",
        "outputId": "74c3590c-671b-475f-ef92-31aa80b2b3ae"
      },
      "execution_count": 31,
      "outputs": [
        {
          "output_type": "execute_result",
          "data": {
            "text/plain": [
              "DecisionTreeRegressor(random_state=0)"
            ]
          },
          "metadata": {},
          "execution_count": 31
        }
      ]
    },
    {
      "cell_type": "code",
      "source": [
        "# predicting with regression model with X and Y\n",
        "y_train_pred=dtregressor.predict(X_train)\n",
        "y_test_pred=dtregressor.predict(X_test)"
      ],
      "metadata": {
        "id": "lU06zXLJx04-"
      },
      "execution_count": 32,
      "outputs": []
    },
    {
      "cell_type": "code",
      "source": [
        "#Mean Squared Error and r2 Score\n",
        "print(\"MSE\",mean_squared_error(y_train,y_train_pred),mean_squared_error(y_test,y_test_pred))\n",
        "print((r2_score(y_train,y_train_pred),(r2_score(y_test_pred,y_test))))"
      ],
      "metadata": {
        "colab": {
          "base_uri": "https://localhost:8080/"
        },
        "id": "GuO15Z7fx8EY",
        "outputId": "1c784906-ccb3-482b-f350-bec238cf1e3b"
      },
      "execution_count": 33,
      "outputs": [
        {
          "output_type": "stream",
          "name": "stdout",
          "text": [
            "MSE 7.164917947869181e-37 7408.483804291254\n",
            "(1.0, 0.7196069044190031)\n"
          ]
        }
      ]
    },
    {
      "cell_type": "code",
      "source": [
        "model.append('Decision Tree')\n",
        "acc.append(dtregressor.score(X_test,y_test))\n",
        "print(dtregressor.score(X_test,y_test))"
      ],
      "metadata": {
        "colab": {
          "base_uri": "https://localhost:8080/"
        },
        "id": "C6Q8Jgipx_Kg",
        "outputId": "e293d856-6404-49e5-9375-3ddf48580599"
      },
      "execution_count": 34,
      "outputs": [
        {
          "output_type": "stream",
          "name": "stdout",
          "text": [
            "0.7207121752928417\n"
          ]
        }
      ]
    },
    {
      "cell_type": "markdown",
      "source": [
        "Random Forest"
      ],
      "metadata": {
        "id": "BDBtQxOqyERP"
      }
    },
    {
      "cell_type": "code",
      "source": [
        "from sklearn.ensemble import RandomForestRegressor"
      ],
      "metadata": {
        "id": "CKZdZdbqyGzU"
      },
      "execution_count": 35,
      "outputs": []
    },
    {
      "cell_type": "code",
      "source": [
        "# create a regressor object\n",
        "forest=RandomForestRegressor()\n",
        "\n",
        "# fit the regressor with X and Y data\n",
        "forest.fit(X_train,y_train)"
      ],
      "metadata": {
        "colab": {
          "base_uri": "https://localhost:8080/"
        },
        "id": "tm3-qAEZyKhD",
        "outputId": "10869770-4a39-4daa-db28-767c8c261970"
      },
      "execution_count": 36,
      "outputs": [
        {
          "output_type": "execute_result",
          "data": {
            "text/plain": [
              "RandomForestRegressor()"
            ]
          },
          "metadata": {},
          "execution_count": 36
        }
      ]
    },
    {
      "cell_type": "code",
      "source": [
        "# predicting with regression model with X and Y\n",
        "y_train_pred=forest.predict(X_train)\n",
        "y_test_pred=forest.predict(X_test)"
      ],
      "metadata": {
        "id": "mPXc88NzyO0j"
      },
      "execution_count": 37,
      "outputs": []
    },
    {
      "cell_type": "code",
      "source": [
        "print(\"MSE\",mean_squared_error(y_train,y_train_pred),mean_squared_error(y_test,y_test_pred))\n",
        "print((r2_score(y_train,y_train_pred),(r2_score(y_test_pred,y_test))))"
      ],
      "metadata": {
        "colab": {
          "base_uri": "https://localhost:8080/"
        },
        "id": "PhG8KqRmyRyf",
        "outputId": "9ef500ad-0814-4594-e615-b04a3c5c0334"
      },
      "execution_count": 38,
      "outputs": [
        {
          "output_type": "stream",
          "name": "stdout",
          "text": [
            "MSE 601.6440267475264 4323.741234140449\n",
            "(0.9795898417476755, 0.8154716738237888)\n"
          ]
        }
      ]
    },
    {
      "cell_type": "code",
      "source": [
        "model.append('Random Forest')\n",
        "acc.append(forest.score(X_test,y_test))\n",
        "print(forest.score(X_test,y_test))"
      ],
      "metadata": {
        "colab": {
          "base_uri": "https://localhost:8080/"
        },
        "id": "7k4JC6CXyVGZ",
        "outputId": "1385b9f5-4d72-4897-85d0-cd53cebd7950"
      },
      "execution_count": 39,
      "outputs": [
        {
          "output_type": "stream",
          "name": "stdout",
          "text": [
            "0.8370019675037605\n"
          ]
        }
      ]
    },
    {
      "cell_type": "markdown",
      "source": [
        "XGBoost"
      ],
      "metadata": {
        "id": "zkepChd9yiRk"
      }
    },
    {
      "cell_type": "code",
      "source": [
        "from xgboost import XGBRegressor"
      ],
      "metadata": {
        "id": "S_oSmxgNylDS"
      },
      "execution_count": 40,
      "outputs": []
    },
    {
      "cell_type": "code",
      "source": [
        "# create a regressor object\n",
        "xgb = XGBRegressor()\n",
        "\n",
        "# fit the regressor with X and Y data\n",
        "xgb.fit(X_train,y_train)"
      ],
      "metadata": {
        "colab": {
          "base_uri": "https://localhost:8080/"
        },
        "id": "453GUnPi0BEY",
        "outputId": "5b88507d-09a2-41b2-aabe-80af40ba12ed"
      },
      "execution_count": 41,
      "outputs": [
        {
          "output_type": "stream",
          "name": "stdout",
          "text": [
            "[05:20:31] WARNING: /workspace/src/objective/regression_obj.cu:152: reg:linear is now deprecated in favor of reg:squarederror.\n"
          ]
        },
        {
          "output_type": "execute_result",
          "data": {
            "text/plain": [
              "XGBRegressor()"
            ]
          },
          "metadata": {},
          "execution_count": 41
        }
      ]
    },
    {
      "cell_type": "code",
      "source": [
        "# predicting with regression model with X and Y\n",
        "y_train_pred=xgb.predict(X_train)\n",
        "y_test_pred=xgb.predict(X_test)"
      ],
      "metadata": {
        "id": "ysl0ZAPs4fDZ"
      },
      "execution_count": 42,
      "outputs": []
    },
    {
      "cell_type": "code",
      "source": [
        "print(\"MSE\",mean_squared_error(y_train,y_train_pred),mean_squared_error(y_test,y_test_pred))\n",
        "print((r2_score(y_train,y_train_pred),(r2_score(y_test_pred,y_test))))"
      ],
      "metadata": {
        "colab": {
          "base_uri": "https://localhost:8080/"
        },
        "id": "1Gs9QKjV4iwX",
        "outputId": "eaa0afd4-9a6d-49a2-c9a8-d5da5d657c4b"
      },
      "execution_count": 43,
      "outputs": [
        {
          "output_type": "stream",
          "name": "stdout",
          "text": [
            "MSE 6771.934017080991 6879.805083100889\n",
            "(0.770269064732319, 0.6064046953302488)\n"
          ]
        }
      ]
    },
    {
      "cell_type": "code",
      "source": [
        "model.append('XGB Boost')\n",
        "acc.append(xgb.score(X_test,y_test))\n",
        "print(xgb.score(X_test,y_test))"
      ],
      "metadata": {
        "colab": {
          "base_uri": "https://localhost:8080/"
        },
        "id": "jRvyKt7-4pPe",
        "outputId": "017c85f1-9726-4e86-feb0-d29a4a4b5ffb"
      },
      "execution_count": 44,
      "outputs": [
        {
          "output_type": "stream",
          "name": "stdout",
          "text": [
            "0.7406425056965733\n"
          ]
        }
      ]
    },
    {
      "cell_type": "markdown",
      "source": [
        "Save the model"
      ],
      "metadata": {
        "id": "WXEHCoUS4ukh"
      }
    },
    {
      "cell_type": "code",
      "source": [
        "import pickle\n",
        "file_name='Model/rainfall_pred.pkl'\n",
        "pkl=open(file_name,'wb')\n",
        "pickle.dump(forest,pkl)\n",
        "pkl.close()"
      ],
      "metadata": {
        "id": "xChFzfp84wj4"
      },
      "execution_count": null,
      "outputs": []
    }
  ]
}